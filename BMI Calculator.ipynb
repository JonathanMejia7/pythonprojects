{
 "cells": [
  {
   "cell_type": "markdown",
   "id": "e7e51d89",
   "metadata": {},
   "source": [
    "## BMI Calculator / Calculadora de IMC"
   ]
  },
  {
   "cell_type": "code",
   "execution_count": 16,
   "id": "b4d9ad9c",
   "metadata": {},
   "outputs": [
    {
     "name": "stdout",
     "output_type": "stream",
     "text": [
      "Enter your weight in kilos / Digite su peso en kilos: 80\n",
      "Enter your height in cms / Digite su altura en cms: 182\n",
      "Your BMI is / Su IMC es: 24.151672503320853\n",
      "Normal Weight / Peso Normal\n"
     ]
    }
   ],
   "source": [
    "weight = int (input (\"Enter your weight in kilos / Digite su peso en kilos: \"))\n",
    "height = int (input (\"Enter your height in cms / Digite su altura en cms: \"))\n",
    "\n",
    "# Converting cms to meters / Convertir la altura de centímetros a metros\n",
    "height_m = (height / 100)\n",
    "\n",
    "# Calculating BMI / Calculando el IMC\n",
    "BMI = weight / (height_m * height_m)\n",
    "\n",
    "# Results / Resultados\n",
    "print(\"Your BMI is / Su IMC es:\", BMI)\n",
    "\n",
    "# Categorizing / Categorizando\n",
    "if BMI>0:\n",
    "    if(BMI<18.5):\n",
    "        print(\"Underweight / Bajo Peso\")\n",
    "    elif(BMI<=24.9):\n",
    "        print(\"Normal Weight / Peso Normal\")\n",
    "    elif(BMI<29.9):\n",
    "        print(\"Overweight / Sobrepeso\")\n",
    "    elif(BMI<34.9):\n",
    "        print(\"Obese / Obesidad Tipo 1\")\n",
    "    elif(BMI<39.9):\n",
    "        print(\"Severely Obese / Obesidad Tipo 2\")        \n",
    "    else: \n",
    "        print(\"Morbidly Obese / Obesidad Mórbida\")\n",
    "else:\n",
    "    print(\"Enter valid inputs / Digite valores válidos\")"
   ]
  }
 ],
 "metadata": {
  "kernelspec": {
   "display_name": "Python 3 (ipykernel)",
   "language": "python",
   "name": "python3"
  },
  "language_info": {
   "codemirror_mode": {
    "name": "ipython",
    "version": 3
   },
   "file_extension": ".py",
   "mimetype": "text/x-python",
   "name": "python",
   "nbconvert_exporter": "python",
   "pygments_lexer": "ipython3",
   "version": "3.11.4"
  }
 },
 "nbformat": 4,
 "nbformat_minor": 5
}
